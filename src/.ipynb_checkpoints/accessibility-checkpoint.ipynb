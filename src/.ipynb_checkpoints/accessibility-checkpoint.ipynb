{
 "cells": [
  {
   "cell_type": "markdown",
   "metadata": {},
   "source": [
    "# Accessibilité relative des résidus et évolution protéique"
   ]
  },
  {
   "cell_type": "markdown",
   "metadata": {},
   "source": [
    "Il y a plusieurs étapes dans le traitement des données :\n",
    "\n",
    " * obtenir les données pdb par **PISCES**\n",
    " * faire tourner **DSSP** pour obtenir l'accessibilité du solvant\n",
    " * récupération des séquences homologues par **PSI-BLAST** (pas moins de 70% d'identité)\n",
    " * réalignement avec la séquence parente\n",
    " * repositionnement des chaines latérales avec **SCWRL4** -> accessibilité du solvant ? "
   ]
  },
  {
   "cell_type": "markdown",
   "metadata": {},
   "source": [
    "## PISCES"
   ]
  },
  {
   "cell_type": "markdown",
   "metadata": {},
   "source": [
    "Sélection de la base de données la plus petite base de [données](http://dunbrack.fccc.edu/Guoli/culledpdb_hh/cullpdb_pc20_res1.6_R0.25_d201103_chains3760.gz)"
   ]
  },
  {
   "cell_type": "markdown",
   "metadata": {},
   "source": [
    "Pour récupérer les fichiers PDB par ligne de commande simplement faire :  \n",
    "`wget https://files.rcsb.org/download/XXXX.pdb`  \n",
    "Le fichier pdb se créera dans le dossier sous le nom XXXX.pdb avec XXXX l'ID de la protéine."
   ]
  },
  {
   "cell_type": "code",
   "execution_count": 30,
   "metadata": {},
   "outputs": [],
   "source": [
    "def pdbfiles(pisces_file):\n",
    "    \"\"\"Creates list of [pdb id, chain, length]\n",
    "    \"\"\"\n",
    "    with open(pisces_file, 'r') as file:\n",
    "        pdb_list = []\n",
    "        next(file)\n",
    "        for line in file:\n",
    "            line = line.split()\n",
    "            pdb_list.append([line[0][0:4], line[0][4:], int(line[1])])\n",
    "        return pdb_list"
   ]
  },
  {
   "cell_type": "code",
   "execution_count": 31,
   "metadata": {},
   "outputs": [],
   "source": [
    "PDB = pdbfiles('../../cullpdb_pc20_res1.6_R0.25_d201103_chains3760')"
   ]
  },
  {
   "cell_type": "markdown",
   "metadata": {},
   "source": [
    "On récupère ainsi une liste contenant pour chaque protéine une liste de son identifiant, la chaine choisie et sa taille."
   ]
  },
  {
   "cell_type": "markdown",
   "metadata": {},
   "source": [
    "## DSSP"
   ]
  },
  {
   "cell_type": "code",
   "execution_count": 4,
   "metadata": {},
   "outputs": [],
   "source": [
    "import wget\n",
    "\n",
    "pdbfiles = wget.download('https://files.rcsb.org/download/1AHO.pdb', out = '../data/1AHO.pdb')\n",
    "pdbfiles = wget.download('https://files.rcsb.org/download/1BTE.pdb', out = '../data/1BTE.pdb')"
   ]
  },
  {
   "cell_type": "markdown",
   "metadata": {},
   "source": [
    "### Traitement de 1AHO"
   ]
  },
  {
   "cell_type": "code",
   "execution_count": 32,
   "metadata": {},
   "outputs": [],
   "source": [
    "from Bio.PDB import PDBParser\n",
    "from Bio.PDB.DSSP import DSSP\n",
    "\n",
    "p = PDBParser()\n",
    "structure = p.get_structure(\"1AHO\",\"../data/1AHO.pdb\")\n",
    "model = structure[0]\n",
    "DSSP = DSSP(model, \"../data/1AHO.pdb\")"
   ]
  },
  {
   "cell_type": "code",
   "execution_count": 33,
   "metadata": {},
   "outputs": [],
   "source": [
    "def full_structure(DSSP_dict):\n",
    "    \"\"\" Check si certains acides aminés n'ont pas de structure secondaire associés\n",
    "    \"\"\"\n",
    "    for key in DSSP_dict.keys():\n",
    "        if DSSP_dict[key][2] == '-':\n",
    "            return False\n",
    "    return True"
   ]
  },
  {
   "cell_type": "code",
   "execution_count": 34,
   "metadata": {},
   "outputs": [
    {
     "name": "stdout",
     "output_type": "stream",
     "text": [
      "False\n"
     ]
    }
   ],
   "source": [
    "print(full_structure(DSSP)) #si False -> certains AA n'ont pas de structure secondaire predites"
   ]
  },
  {
   "cell_type": "code",
   "execution_count": 35,
   "metadata": {},
   "outputs": [
    {
     "name": "stdout",
     "output_type": "stream",
     "text": [
      "Accessibilite relative du solvant pour la proteine entiere : 23.91777136977158\n"
     ]
    }
   ],
   "source": [
    "ASA = 0\n",
    "for k in DSSP.keys():\n",
    "    #print(DSSP[k]) #affichage de chaque element pour tous les AA\n",
    "    ASA += DSSP[k][3] #recuperation de la 'relative ASA' de chaque AA\n",
    "\n",
    "print(\"Accessibilite relative du solvant pour la proteine entiere : {}\".format(ASA))"
   ]
  },
  {
   "cell_type": "code",
   "execution_count": 36,
   "metadata": {},
   "outputs": [
    {
     "name": "stdout",
     "output_type": "stream",
     "text": [
      "VKDGYIVDDVNCTYFCGRNAYCNEECTKLKGESGYCQWASPYGNACYCYKLPDHVRTKGPGRCH\n"
     ]
    }
   ],
   "source": [
    "# Recuperation de la sequence fasta de la proteine\n",
    "fasta = \"\"\n",
    "for key in DSSP.keys():\n",
    "    fasta += DSSP[key][1] #recuperation du symbole 1 lettre de l'AA\n",
    "print(fasta)"
   ]
  },
  {
   "cell_type": "markdown",
   "metadata": {},
   "source": [
    "### Traitement de 1BTE"
   ]
  },
  {
   "cell_type": "code",
   "execution_count": 37,
   "metadata": {},
   "outputs": [],
   "source": [
    "from Bio.PDB import PDBParser\n",
    "from Bio.PDB.DSSP import DSSP\n",
    "\n",
    "p = PDBParser()\n",
    "structure = p.get_structure(\"1BTE\",\"../data/1BTE.pdb\")\n",
    "model = structure[0]\n",
    "DSSP = DSSP(model, \"../data/1BTE.pdb\")"
   ]
  },
  {
   "cell_type": "code",
   "execution_count": 38,
   "metadata": {},
   "outputs": [
    {
     "name": "stdout",
     "output_type": "stream",
     "text": [
      "Accessibilite relative du solvant pour la proteine entiere : 34.529479532768015\n"
     ]
    }
   ],
   "source": [
    "ASA = 0\n",
    "for k in DSSP.keys():\n",
    "    #print(DSSP[k]) #affichage de chaque element pour tous les AA\n",
    "    ASA += DSSP[k][3] #recuperation de la 'relative ASA' de chaque AA\n",
    "\n",
    "print(\"Accessibilite relative du solvant pour la proteine entiere : {}\".format(ASA))"
   ]
  },
  {
   "cell_type": "code",
   "execution_count": 39,
   "metadata": {},
   "outputs": [
    {
     "name": "stdout",
     "output_type": "stream",
     "text": [
      "ETQECLFFNANWERDRTNQTGVEPCYGRRHCFATWKNISGSIEIVKQGCWLDDINCYDRTDCIEKKDSPEVYFCCCEGNMCNEKFSYFPEM\n"
     ]
    }
   ],
   "source": [
    "# Recuperation de la sequence fasta de la proteine\n",
    "fasta = \"\"\n",
    "for key in DSSP.keys():\n",
    "    fasta += DSSP[key][1] #recuperation du symbole 1 lettre de l'AA\n",
    "print(fasta)"
   ]
  },
  {
   "cell_type": "markdown",
   "metadata": {},
   "source": [
    "Les calculs d'accessibilité au solvant sont faits de la même façon avec les autres fichiers PDB."
   ]
  }
 ],
 "metadata": {
  "kernelspec": {
   "display_name": "Python 3",
   "language": "python",
   "name": "python3"
  },
  "language_info": {
   "codemirror_mode": {
    "name": "ipython",
    "version": 3
   },
   "file_extension": ".py",
   "mimetype": "text/x-python",
   "name": "python",
   "nbconvert_exporter": "python",
   "pygments_lexer": "ipython3",
   "version": "3.9.0"
  }
 },
 "nbformat": 4,
 "nbformat_minor": 4
}
