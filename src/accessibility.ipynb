{
 "cells": [
  {
   "cell_type": "markdown",
   "metadata": {},
   "source": [
    "# Accessibilité relative des résidus et évolution protéique"
   ]
  },
  {
   "cell_type": "markdown",
   "metadata": {},
   "source": [
    "Il y a plusieurs étapes dans le traitement des données :\n",
    "\n",
    " * obtenir les données pdb par **PISCES**\n",
    " * faire tourner **DSSP** pour obtenir l'accessibilité du solvant\n",
    " * récupération des séquences homologues par **PSI-BLAST** (pas moins de 70% d'identité)\n",
    " * réalignement avec la séquence parente\n",
    " * repositionnement des chaines latérales avec **SCWRL4** -> accessibilité du solvant ? "
   ]
  },
  {
   "cell_type": "markdown",
   "metadata": {},
   "source": [
    "## PISCES"
   ]
  },
  {
   "cell_type": "markdown",
   "metadata": {},
   "source": [
    "Sélection de la base de données la plus petite base de [données](http://dunbrack.fccc.edu/Guoli/culledpdb_hh/cullpdb_pc20_res1.6_R0.25_d201103_chains3760.gz)"
   ]
  },
  {
   "cell_type": "markdown",
   "metadata": {},
   "source": [
    "*Afin de simplifier le traitement on travaille tout d'abord avec un fichier PDB, on résoud les problèmes, une fois que les exceptions sont réglées, on automatise.*"
   ]
  },
  {
   "cell_type": "markdown",
   "metadata": {},
   "source": [
    "Pour récupérer les fichiers PDB par ligne de commande simplement faire :  \n",
    "`wget https://files.rcsb.org/download/XXXX.pdb`  \n",
    "Le fichier pdb se créera dans le dossier sous le nom XXXX.pdb avec XXXX l'ID de la protéine."
   ]
  },
  {
   "cell_type": "code",
   "execution_count": 1,
   "metadata": {},
   "outputs": [],
   "source": [
    "def pdbfiles(pisces_file):\n",
    "    \"\"\"Creates list of [pdb id, chain, length]\n",
    "    \"\"\"\n",
    "    with open(pisces_file, 'r') as file:\n",
    "        pdb_list = []\n",
    "        next(file)\n",
    "        for line in file:\n",
    "            line = line.split()\n",
    "            pdb_list.append([line[0][0:4], line[0][4:], int(line[1])])\n",
    "        return pdb_list"
   ]
  },
  {
   "cell_type": "code",
   "execution_count": 2,
   "metadata": {},
   "outputs": [],
   "source": [
    "PDB = pdbfiles('../../cullpdb_pc20_res1.6_R0.25_d201103_chains3760')"
   ]
  },
  {
   "cell_type": "markdown",
   "metadata": {},
   "source": [
    "On récupère ainsi une liste contenant pour chaque protéine une liste de son identifiant, la chaine choisie et sa taille."
   ]
  },
  {
   "cell_type": "markdown",
   "metadata": {},
   "source": [
    "**to check :**\n",
    "* complete (taille pdb = taille prot dans la liste)\n",
    "* gerer les differentes chaines\n",
    "* gerer les grands fichiers"
   ]
  },
  {
   "cell_type": "code",
   "execution_count": 3,
   "metadata": {},
   "outputs": [
    {
     "name": "stdout",
     "output_type": "stream",
     "text": [
      "Structure exists: '../data/pdb1ah7.ent' \n"
     ]
    }
   ],
   "source": [
    "from Bio.PDB import PDBList\n",
    "\n",
    "p = PDBList()\n",
    "pdb = p.retrieve_pdb_file(pdb_code = '1AH7', file_format = 'pdb', pdir = '../data/')"
   ]
  },
  {
   "cell_type": "code",
   "execution_count": 4,
   "metadata": {},
   "outputs": [
    {
     "ename": "SyntaxError",
     "evalue": "Missing parentheses in call to 'print'. Did you mean print(\"OUT PATH:\",out_path)? (<ipython-input-4-f41b9e607589>, line 29)",
     "output_type": "error",
     "traceback": [
      "\u001b[0;36m  File \u001b[0;32m\"<ipython-input-4-f41b9e607589>\"\u001b[0;36m, line \u001b[0;32m29\u001b[0m\n\u001b[0;31m    print \"OUT PATH:\",out_path\u001b[0m\n\u001b[0m          ^\u001b[0m\n\u001b[0;31mSyntaxError\u001b[0m\u001b[0;31m:\u001b[0m Missing parentheses in call to 'print'. Did you mean print(\"OUT PATH:\",out_path)?\n"
     ]
    }
   ],
   "source": [
    "import os\n",
    "from Bio import PDB\n",
    "\n",
    "class ChainSplitter:\n",
    "    def __init__(self, out_dir=None):\n",
    "        \"\"\" Create parsing and writing objects, specify output directory. \"\"\"\n",
    "        self.parser = PDB.PDBParser()\n",
    "        self.writer = PDB.PDBIO()\n",
    "        if out_dir is None:\n",
    "            out_dir = '../data/'\n",
    "        self.out_dir = out_dir\n",
    "\n",
    "    def make_pdb(self, pdb_path, chain_letters, overwrite=False, struct=None):\n",
    "        \"\"\" Create a new PDB file containing only the specified chains.\n",
    "\n",
    "        Returns the path to the created file.\n",
    "\n",
    "        :param pdb_path: full path to the crystal structure\n",
    "        :param chain_letters: iterable of chain characters (case insensitive)\n",
    "        :param overwrite: write over the output file if it exists\n",
    "        \"\"\"\n",
    "        chain_letters = [chain.upper() for chain in chain_letters]\n",
    "\n",
    "        # Input/output files\n",
    "        (pdb_dir, pdb_fn) = os.path.split(pdb_path)\n",
    "        pdb_id = pdb_fn[3:7]\n",
    "        out_name = \"pdb%s_%s.ent\" % (pdb_id, \"\".join(chain_letters))\n",
    "        out_path = os.path.join(self.out_dir, out_name)\n",
    "        print \"OUT PATH:\",out_path\n",
    "        plural = \"s\" if (len(chain_letters) > 1) else \"\"  # for printing\n",
    "\n",
    "        # Skip PDB generation if the file already exists\n",
    "        if (not overwrite) and (os.path.isfile(out_path)):\n",
    "            print(\"Chain%s %s of '%s' already extracted to '%s'.\" %\n",
    "                    (plural, \", \".join(chain_letters), pdb_id, out_name))\n",
    "            return out_path\n",
    "\n",
    "        print(\"Extracting chain%s %s from %s...\" % (plural,\n",
    "                \", \".join(chain_letters), pdb_fn))\n",
    "\n",
    "        # Get structure, write new file with only given chains\n",
    "        if struct is None:\n",
    "            struct = self.parser.get_structure(pdb_id, pdb_path)\n",
    "        self.writer.set_structure(struct)\n",
    "        self.writer.save(out_path, select=SelectChains(chain_letters))\n",
    "\n",
    "        return out_path\n",
    "\n",
    "\n",
    "class SelectChains(PDB.Select):\n",
    "    \"\"\" Only accept the specified chains when saving. \"\"\"\n",
    "    def __init__(self, chain_letters):\n",
    "        self.chain_letters = chain_letters\n",
    "\n",
    "    def accept_chain(self, chain):\n",
    "        return (chain.get_id() in self.chain_letters)\n",
    "\n",
    "\n",
    "if __name__ == \"__main__\":\n",
    "    \"\"\" Parses PDB id's desired chains, and creates new PDB structures. \"\"\"\n",
    "    import sys\n",
    "    if not len(sys.argv) == 2:\n",
    "        print \"Usage: $ python %s 'pdb.txt'\" % __file__\n",
    "        sys.exit()\n",
    "\n",
    "    pdb_textfn = sys.argv[1]\n",
    "\n",
    "    pdbList = PDB.PDBList()\n",
    "    splitter = ChainSplitter(\"/home/steve/chain_pdbs\")  # Change me.\n",
    "\n",
    "    with open(pdb_textfn) as pdb_textfile:\n",
    "        for line in pdb_textfile:\n",
    "            pdb_id = line[:4].lower()\n",
    "            chain = line[4]\n",
    "            pdb_fn = pdbList.retrieve_pdb_file(pdb_id)\n",
    "            splitter.make_pdb(pdb_fn, chain)"
   ]
  },
  {
   "cell_type": "markdown",
   "metadata": {},
   "source": [
    "## DSSP"
   ]
  },
  {
   "cell_type": "code",
   "execution_count": 4,
   "metadata": {},
   "outputs": [],
   "source": [
    "import wget\n",
    "\n",
    "pdbfiles = wget.download('https://files.rcsb.org/download/1AHO.pdb', out = '../data/1AHO.pdb')\n",
    "pdbfiles = wget.download('https://files.rcsb.org/download/1BTE.pdb', out = '../data/1BTE.pdb')"
   ]
  },
  {
   "cell_type": "markdown",
   "metadata": {},
   "source": [
    "### Traitement de 1AHO"
   ]
  },
  {
   "cell_type": "code",
   "execution_count": 5,
   "metadata": {},
   "outputs": [],
   "source": [
    "from Bio.PDB import PDBParser\n",
    "from Bio.PDB.DSSP import DSSP\n",
    "\n",
    "p = PDBParser()\n",
    "structure = p.get_structure(\"1AHO\",\"../data/1AHO.pdb\")\n",
    "model = structure[0]\n",
    "DSSP = DSSP(model, \"../data/1AHO.pdb\")"
   ]
  },
  {
   "cell_type": "code",
   "execution_count": 15,
   "metadata": {},
   "outputs": [],
   "source": [
    "def full_structure(DSSP_dict):\n",
    "    \"\"\" Check si certains acides aminés n'ont pas de structure secondaire associés\n",
    "    \"\"\"\n",
    "    for key in DSSP_dict.keys():\n",
    "        if DSSP_dict[key][2] == '-':\n",
    "            return False\n",
    "    return True"
   ]
  },
  {
   "cell_type": "code",
   "execution_count": 16,
   "metadata": {},
   "outputs": [
    {
     "name": "stdout",
     "output_type": "stream",
     "text": [
      "False\n"
     ]
    }
   ],
   "source": [
    "print(full_structure(DSSP)) #si False -> certains AA n'ont pas de structure secondaire predites"
   ]
  },
  {
   "cell_type": "code",
   "execution_count": 20,
   "metadata": {
    "collapsed": true,
    "jupyter": {
     "outputs_hidden": true
    }
   },
   "outputs": [
    {
     "name": "stdout",
     "output_type": "stream",
     "text": [
      "(1, 'E', '-', 0.845360824742268, 360.0, 22.7, 0, 0.0, 79, -0.5, 0, 0.0, 2, -0.5)\n",
      "(2, 'T', '-', 0.0, -122.8, 117.6, 77, -0.2, 28, -0.1, 1, -0.1, 3, -0.1)\n",
      "(3, 'Q', '-', 0.4292929292929293, -111.6, -20.0, -2, -0.5, 22, -2.1, 1, -0.3, 2, -0.3)\n",
      "(4, 'E', 'E', 0.4175257731958763, -153.8, 150.9, 20, -0.3, 77, -2.3, 45, -0.1, 78, -0.3)\n",
      "(5, 'C', 'E', 0.0, -139.2, 159.2, 18, -2.1, 18, -2.5, -2, -0.3, 2, -0.3)\n",
      "(6, 'L', 'E', 0.23780487804878048, -65.6, 132.7, -2, -0.3, 2, -0.4, 16, -0.2, 27, -0.2)\n",
      "(7, 'F', 'E', 0.18274111675126903, -110.4, 133.2, 14, -2.9, 14, -2.0, -2, -0.3, 2, -0.3)\n",
      "(8, 'F', 'E', 0.25380710659898476, -148.5, 138.3, 40, -2.2, 40, -2.4, -2, -0.4, 2, -0.3)\n",
      "(9, 'N', 'E', 0.025477707006369428, -145.8, 103.5, 10, -2.3, 3, -1.4, -2, -0.3, 38, -0.2)\n",
      "(10, 'A', 'T', 0.42452830188679247, -63.8, -21.4, 36, -2.2, 3, -0.3, -2, -0.3, 37, -0.1)\n",
      "(11, 'N', 'T', 0.33121019108280253, -96.0, 27.4, 35, -0.3, 4, -2.4, 1, -0.2, -1, -0.3)\n",
      "(12, 'W', 'H', 0.33480176211453744, -55.8, -38.7, -3, -1.4, 5, -1.7, 1, -0.2, 4, -1.3)\n",
      "(13, 'E', 'H', 0.5721649484536082, -65.2, -50.1, -3, -0.3, 3, -0.4, 2, -0.2, -1, -0.2)\n",
      "(14, 'R', 'H', 0.7419354838709677, -72.2, -30.5, 1, -0.2, -2, -0.2, 2, -0.1, -1, -0.2)\n",
      "(15, 'D', 'H', 0.4601226993865031, -82.4, -11.2, -4, -2.4, -1, -0.2, 2, -0.1, -2, -0.2)\n",
      "(16, 'R', 'T', 0.7862903225806451, 61.0, 49.9, -4, -1.3, 2, -0.2, -3, -0.4, -3, -0.2)\n",
      "(17, 'T', 'S', 0.36619718309859156, -124.3, 172.7, -5, -1.7, -1, -0.2, -6, -0.1, -2, -0.1)\n",
      "(18, 'N', '-', 0.7006369426751592, -62.3, 157.6, -2, -0.2, 3, -0.1, 1, -0.1, -1, -0.1)\n",
      "(19, 'Q', 'S', 0.494949494949495, -77.7, -42.6, 1, -0.3, -10, -2.3, -11, -0.1, 2, -0.3)\n",
      "(20, 'T', 'E', 0.5774647887323944, -142.5, 166.5, -12, -0.2, -1, -0.3, 2, -0.0, 2, -0.3)\n",
      "(21, 'G', 'E', 0.2857142857142857, 164.1, -149.5, -14, -2.0, -14, -2.9, -2, -0.3, 2, -0.4)\n",
      "(22, 'V', 'E', 0.6408450704225352, -120.5, 116.4, -2, -0.3, -16, -0.2, -16, -0.2, -2, -0.0)\n",
      "(23, 'E', 'E', 0.32989690721649484, -92.0, 130.8, -18, -2.5, -18, -2.1, -2, -0.4, 2, -0.4)\n",
      "(24, 'P', 'E', 0.5294117647058824, -81.6, 127.4, 0, 0.0, 2, -0.5, 0, 0.0, -20, -0.3)\n",
      "(25, 'C', '-', 0.044444444444444446, -90.7, 125.4, -22, -2.1, 5, -0.1, -2, -0.4, 2, -0.0)\n",
      "(26, 'Y', '-', 0.8063063063063063, -124.2, -117.2, -2, -0.5, -1, -0.1, 24, -0.0, -22, -0.0)\n",
      "(27, 'G', '-', 1.0, 56.9, 360.0, -2, -0.0, -2, -0.0, 3, -0.0, 0, 0.0)\n",
      "(29, 'R', '-', 0.45161290322580644, 360.0, 127.6, 23, -0.1, 2, -0.2, 2, -0.0, 26, -0.1)\n",
      "(30, 'R', '-', 0.3185483870967742, -94.9, 152.4, -28, -0.1, 2, -0.3, -5, -0.1, 22, -0.2)\n",
      "(31, 'H', 'E', 0.08695652173913043, -137.2, 166.0, 20, -1.4, 20, -2.9, -2, -0.2, 2, -0.3)\n",
      "(32, 'C', 'E', 0.0, -105.2, 160.5, 45, -2.6, 45, -2.1, -2, -0.3, 2, -0.3)\n",
      "(33, 'F', 'E', 0.09644670050761421, -148.0, 164.8, 16, -2.2, 16, -1.8, -2, -0.3, 2, -0.3)\n",
      "(34, 'A', 'E', 0.0, -137.4, 147.6, 41, -1.9, 41, -2.1, -2, -0.3, 2, -0.4)\n",
      "(35, 'T', 'E', 0.14084507042253522, -130.8, 137.4, 12, -2.7, 11, -2.9, -2, -0.3, 12, -1.1)\n",
      "(36, 'W', 'E', 0.022026431718061675, -153.5, 163.6, 37, -2.0, 37, -2.9, -2, -0.4, 2, -0.4)\n",
      "(37, 'K', 'E', 0.4097560975609756, -105.9, 148.6, 7, -2.4, 7, -2.2, -2, -0.3, 2, -0.4)\n",
      "(38, 'N', 'E', 0.22929936305732485, -141.0, 100.2, -2, -0.4, 2, -0.6, 33, -0.3, 5, -0.2)\n",
      "(39, 'I', 'E', 0.7041420118343196, -111.3, 111.6, 3, -2.0, 3, -2.3, -2, -0.4, -2, -0.0)\n",
      "(40, 'S', 'T', 0.9692307692307692, 52.2, 37.7, -2, -0.6, -1, -0.2, 1, -0.3, 3, -0.1)\n",
      "(41, 'G', 'T', 0.6547619047619048, 92.8, -16.5, 1, -0.2, 2, -0.6, 0, 0.0, -1, -0.3)\n",
      "(42, 'S', 'E', 0.7, -84.6, 116.8, -3, -2.3, -3, -2.0, 2, -0.0, 2, -0.4)\n",
      "(43, 'I', 'E', 0.5088757396449705, -96.7, 132.8, -2, -0.6, 2, -0.4, -5, -0.2, -5, -0.2)\n",
      "(44, 'E', 'E', 0.6288659793814433, -127.4, 114.9, -7, -2.2, -7, -2.4, -2, -0.4, 2, -0.2)\n",
      "(45, 'I', 'E', 0.21301775147928995, -70.4, 138.1, -2, -0.4, -9, -0.3, -9, -0.2, 3, -0.1)\n",
      "(46, 'V', 'E', 0.2746478873239437, -95.2, -58.5, -11, -2.9, -36, -2.2, 1, -0.4, -35, -0.3)\n",
      "(47, 'K', 'E', 0.3170731707317073, -148.3, 151.6, -12, -1.1, -12, -2.7, -38, -0.2, -1, -0.4)\n",
      "(48, 'Q', 'E', 0.045454545454545456, -132.9, 147.5, -40, -2.4, -40, -2.2, -2, -0.3, 2, -0.3)\n",
      "(49, 'G', 'E', 0.0, 164.7, -163.6, -16, -1.8, -16, -2.2, -2, -0.3, 2, -0.2)\n",
      "(50, 'C', 'E', 0.16296296296296298, -79.9, 152.5, -2, -0.3, 2, -0.5, -18, -0.2, -18, -0.3)\n",
      "(51, 'W', 'E', 0.34801762114537443, -127.1, 115.4, -20, -2.9, -20, -1.4, -2, -0.2, 4, -0.1)\n",
      "(52, 'L', '-', 0.4146341463414634, -100.4, -26.0, -2, -0.5, -1, -0.1, -22, -0.2, -23, -0.1)\n",
      "(53, 'D', 'S', 0.7361963190184049, -70.4, 153.9, 1, -0.1, -2, -0.0, -22, -0.0, -22, -0.0)\n",
      "(54, 'D', '-', 0.6257668711656442, -53.2, 137.6, -2, -0.1, 2, -0.3, -24, -0.0, -1, -0.1)\n",
      "(55, 'I', '-', 0.25443786982248523, -161.8, 157.4, -26, -0.1, 2, -0.4, -4, -0.1, -4, -0.0)\n",
      "(56, 'N', '-', 0.9936305732484076, -112.6, 140.6, -2, -0.3, 2, -0.3, 2, -0.0, 20, -0.0)\n",
      "(57, 'C', '-', 0.28888888888888886, -114.4, 165.9, -2, -0.4, 20, -0.1, 18, -0.1, 3, -0.1)\n",
      "(58, 'Y', 'S', 0.536036036036036, -77.2, -27.3, 6, -0.5, 2, -0.3, -2, -0.3, 5, -0.1)\n",
      "(59, 'D', '-', 0.37423312883435583, -142.6, 146.3, 17, -0.5, 5, -0.2, 3, -0.3, -1, -0.2)\n",
      "(60, 'R', 'S', 0.2661290322580645, -70.0, -48.0, -2, -0.3, 18, -3.0, 17, -0.1, -1, -0.1)\n",
      "(61, 'T', 'S', 0.4154929577464789, -93.3, -45.9, 16, -0.2, 2, -0.4, 1, -0.0, -1, -0.1)\n",
      "(62, 'D', 'S', 0.5950920245398773, -94.0, 144.1, 14, -0.1, 2, -0.8, 15, -0.1, -3, -0.3)\n",
      "(63, 'C', 'E', 0.014814814814814815, -90.4, 110.3, 22, -0.6, 24, -2.2, 19, -0.5, 2, -0.4)\n",
      "(64, 'I', 'E', 0.09467455621301775, -132.0, 134.6, -2, -0.8, -6, -0.5, 12, -0.5, 2, -0.5)\n",
      "(65, 'E', 'E', 0.020618556701030927, -95.6, 128.3, 22, -2.4, 24, -2.3, -2, -0.4, 10, -0.1)\n",
      "(66, 'K', '-', 0.33170731707317075, -116.2, 2.4, -2, -0.5, 25, -2.6, 8, -0.2, 26, -0.2)\n",
      "(67, 'K', 'S', 0.6048780487804878, -74.1, 155.1, 7, -0.2, 2, -0.6, 23, -0.2, 22, -0.1)\n",
      "(68, 'D', 'S', 0.4049079754601227, -90.0, 117.4, 1, -0.2, -1, -0.1, 22, -0.1, -2, -0.1)\n",
      "(69, 'S', 'S', 0.676923076923077, 47.5, 58.2, -2, -0.6, -1, -0.2, 1, -0.1, 4, -0.0)\n",
      "(70, 'P', '-', 0.19117647058823528, -76.9, 159.8, 0, 0.0, -32, -0.2, 0, 0.0, 3, -0.2)\n",
      "(71, 'E', 'S', 0.8969072164948454, -80.5, -39.2, 1, -0.3, 2, -0.5, -34, -0.1, -33, -0.3)\n",
      "(72, 'V', 'S', 0.5, -117.4, 115.2, -35, -0.1, -1, -0.3, -37, -0.0, 2, -0.2)\n",
      "(73, 'Y', 'E', 0.07657657657657657, -75.2, 146.8, -37, -2.9, -37, -2.0, -2, -0.5, 2, -0.3)\n",
      "(74, 'F', 'E', 0.2639593908629442, -144.8, 143.4, -2, -0.2, 2, -0.3, -39, -0.2, -7, -0.2)\n",
      "(75, 'C', 'E', 0.014814814814814815, -144.4, 155.4, -41, -2.1, -41, -1.9, -2, -0.3, 2, -0.3)\n",
      "(76, 'C', 'E', 0.014814814814814815, -132.9, 160.2, -12, -0.4, -12, -0.5, -2, -0.3, -17, -0.5)\n",
      "(77, 'C', 'E', 0.0, -154.0, 165.5, -45, -2.1, -45, -2.6, -2, -0.3, 2, -0.3)\n",
      "(78, 'E', '-', 0.29896907216494845, -113.5, 143.8, -18, -3.0, -47, -0.1, -2, -0.3, -76, -0.1)\n",
      "(79, 'G', 'S', 0.17857142857142858, 116.2, 136.5, -2, -0.3, 3, -2.4, -49, -0.1, 4, -0.3)\n",
      "(80, 'N', 'T', 0.4394904458598726, -53.7, 122.0, -79, -0.5, -75, -0.2, 1, -0.3, -2, -0.1)\n",
      "(81, 'M', 'T', 0.20212765957446807, 69.8, 18.0, -77, -2.3, 3, -1.8, 1, -0.1, -1, -0.3)\n",
      "(82, 'C', 'G', 0.17777777777777778, -64.7, -23.8, -3, -2.4, 3, -0.7, -78, -0.3, -19, -0.5)\n",
      "(83, 'N', 'G', 0.0, -82.1, 11.1, -4, -0.3, -1, -0.3, 1, -0.2, -2, -0.1)\n",
      "(84, 'E', 'G', 0.5051546391752577, -69.3, -34.8, -3, -1.8, 2, -0.4, 1, -0.1, -1, -0.2)\n",
      "(85, 'K', 'S', 0.8341463414634146, -105.8, 132.9, -3, -0.7, -22, -0.6, -4, -0.3, 2, -0.3)\n",
      "(86, 'F', 'E', 0.22842639593908629, -141.3, 142.1, -2, -0.4, 2, -0.3, -24, -0.1, -22, -0.2)\n",
      "(87, 'S', 'E', 0.3923076923076923, -133.6, 164.1, -24, -2.2, -22, -2.4, -2, -0.3, 2, -0.5)\n",
      "(88, 'Y', 'E', 0.27927927927927926, -118.8, 110.7, -2, -0.3, -22, -0.2, -24, -0.2, -24, -0.1)\n",
      "(89, 'F', '-', 0.5888324873096447, -128.7, 80.0, -24, -2.3, -21, -0.0, -2, -0.5, -2, -0.0)\n",
      "(90, 'P', '-', 0.2647058823529412, -59.1, 142.9, 0, 0.0, -23, -0.2, 0, 0.0, -24, -0.1)\n",
      "(91, 'E', '-', 0.6649484536082474, -52.2, -32.3, -25, -2.6, -24, -0.1, 1, -0.3, -25, -0.0)\n",
      "(92, 'M', '-', 0.7659574468085106, -62.1, 360.0, -26, -0.2, -1, -0.3, 0, 0.0, -25, -0.0)\n",
      "Accessibilite relative du solvant pour la proteine entiere : 34.529479532768015\n"
     ]
    }
   ],
   "source": [
    "ASA = 0\n",
    "for k in DSSP.keys():\n",
    "    #print(DSSP[k]) #affichage de chaque element pour tous les AA\n",
    "    ASA += DSSP[k][3] #recuperation de la 'relative ASA' de chaque AA\n",
    "\n",
    "print(\"Accessibilite relative du solvant pour la proteine entiere : {}\".format(ASA))"
   ]
  },
  {
   "cell_type": "code",
   "execution_count": 8,
   "metadata": {},
   "outputs": [
    {
     "name": "stdout",
     "output_type": "stream",
     "text": [
      "VKDGYIVDDVNCTYFCGRNAYCNEECTKLKGESGYCQWASPYGNACYCYKLPDHVRTKGPGRCH\n"
     ]
    }
   ],
   "source": [
    "# Recuperation de la sequence fasta de la proteine\n",
    "fasta = \"\"\n",
    "for key in DSSP.keys():\n",
    "    fasta += DSSP[key][1] #recuperation du symbole 1 lettre de l'AA\n",
    "print(fasta)"
   ]
  },
  {
   "cell_type": "markdown",
   "metadata": {},
   "source": [
    "### Traitement de 1BTE"
   ]
  },
  {
   "cell_type": "code",
   "execution_count": 17,
   "metadata": {},
   "outputs": [],
   "source": [
    "from Bio.PDB import PDBParser\n",
    "from Bio.PDB.DSSP import DSSP\n",
    "\n",
    "p = PDBParser()\n",
    "structure = p.get_structure(\"1BTE\",\"../data/1BTE.pdb\")\n",
    "model = structure[0]\n",
    "DSSP = DSSP(model, \"../data/1BTE.pdb\")"
   ]
  },
  {
   "cell_type": "code",
   "execution_count": 18,
   "metadata": {},
   "outputs": [
    {
     "name": "stdout",
     "output_type": "stream",
     "text": [
      "Accessibilite relative du solvant pour la proteine entiere : 34.529479532768015\n"
     ]
    }
   ],
   "source": [
    "ASA = 0\n",
    "for k in DSSP.keys():\n",
    "    #print(DSSP[k]) #affichage de chaque element pour tous les AA\n",
    "    ASA += DSSP[k][3] #recuperation de la 'relative ASA' de chaque AA\n",
    "\n",
    "print(\"Accessibilite relative du solvant pour la proteine entiere : {}\".format(ASA))"
   ]
  },
  {
   "cell_type": "code",
   "execution_count": 19,
   "metadata": {},
   "outputs": [
    {
     "name": "stdout",
     "output_type": "stream",
     "text": [
      "ETQECLFFNANWERDRTNQTGVEPCYGRRHCFATWKNISGSIEIVKQGCWLDDINCYDRTDCIEKKDSPEVYFCCCEGNMCNEKFSYFPEM\n"
     ]
    }
   ],
   "source": [
    "# Recuperation de la sequence fasta de la proteine\n",
    "fasta = \"\"\n",
    "for key in DSSP.keys():\n",
    "    fasta += DSSP[key][1] #recuperation du symbole 1 lettre de l'AA\n",
    "print(fasta)"
   ]
  },
  {
   "cell_type": "markdown",
   "metadata": {},
   "source": [
    "## PSI-BLAST"
   ]
  },
  {
   "cell_type": "code",
   "execution_count": 12,
   "metadata": {},
   "outputs": [],
   "source": [
    "from Bio.Blast.Applications import NcbipsiblastCommandline"
   ]
  },
  {
   "cell_type": "code",
   "execution_count": 13,
   "metadata": {},
   "outputs": [
    {
     "data": {
      "text/plain": [
       "NcbipsiblastCommandline(cmd=Type help() for interactive help, or help(object) for help about object.)"
      ]
     },
     "execution_count": 13,
     "metadata": {},
     "output_type": "execute_result"
    }
   ],
   "source": [
    "cline = NcbipsiblastCommandline(help)\n",
    "cline"
   ]
  },
  {
   "cell_type": "code",
   "execution_count": 14,
   "metadata": {},
   "outputs": [],
   "source": [
    "cline = NcbipsiblastCommandline('psiblast', db = 'refseq_prot', query = fasta)"
   ]
  },
  {
   "cell_type": "code",
   "execution_count": 15,
   "metadata": {},
   "outputs": [
    {
     "data": {
      "text/plain": [
       "'psiblast -query XNLTELKNTPVSELITLGENXGLENLARXRKQDIIFAILKQHAKSGEDIFGDGVLEILQDGFGFLRSADSSYLAGPDDIYVSPSQIRRFNLRTGDTISGKIRPPKEGERYFALLKVNEVNFDKPE -db refseq_prot'"
      ]
     },
     "execution_count": 15,
     "metadata": {},
     "output_type": "execute_result"
    }
   ],
   "source": [
    "str(cline)"
   ]
  },
  {
   "cell_type": "code",
   "execution_count": 16,
   "metadata": {},
   "outputs": [
    {
     "ename": "ApplicationError",
     "evalue": "Non-zero return code 127 from 'psiblast -query XNLTELKNTPVSELITLGENXGLENLARXRKQDIIFAILKQHAKSGEDIFGDGVLEILQDGFGFLRSADSSYLAGPDDIYVSPSQIRRFNLRTGDTISGKIRPPKEGERYFALLKVNEVNFDKPE -db refseq_prot', message '/bin/sh: 1: psiblast: not found'",
     "output_type": "error",
     "traceback": [
      "\u001b[0;31m---------------------------------------------------------------------------\u001b[0m",
      "\u001b[0;31mApplicationError\u001b[0m                          Traceback (most recent call last)",
      "\u001b[0;32m<ipython-input-16-c418dc64da4a>\u001b[0m in \u001b[0;36m<module>\u001b[0;34m\u001b[0m\n\u001b[0;32m----> 1\u001b[0;31m \u001b[0mcline\u001b[0m\u001b[0;34m(\u001b[0m\u001b[0;34m)\u001b[0m\u001b[0;34m\u001b[0m\u001b[0;34m\u001b[0m\u001b[0m\n\u001b[0m",
      "\u001b[0;32m~/miniconda3/envs/projet-tut/lib/python3.9/site-packages/Bio/Application/__init__.py\u001b[0m in \u001b[0;36m__call__\u001b[0;34m(self, stdin, stdout, stderr, cwd, env)\u001b[0m\n\u001b[1;32m    567\u001b[0m \u001b[0;34m\u001b[0m\u001b[0m\n\u001b[1;32m    568\u001b[0m         \u001b[0;32mif\u001b[0m \u001b[0mreturn_code\u001b[0m\u001b[0;34m:\u001b[0m\u001b[0;34m\u001b[0m\u001b[0;34m\u001b[0m\u001b[0m\n\u001b[0;32m--> 569\u001b[0;31m             \u001b[0;32mraise\u001b[0m \u001b[0mApplicationError\u001b[0m\u001b[0;34m(\u001b[0m\u001b[0mreturn_code\u001b[0m\u001b[0;34m,\u001b[0m \u001b[0mstr\u001b[0m\u001b[0;34m(\u001b[0m\u001b[0mself\u001b[0m\u001b[0;34m)\u001b[0m\u001b[0;34m,\u001b[0m \u001b[0mstdout_str\u001b[0m\u001b[0;34m,\u001b[0m \u001b[0mstderr_str\u001b[0m\u001b[0;34m)\u001b[0m\u001b[0;34m\u001b[0m\u001b[0;34m\u001b[0m\u001b[0m\n\u001b[0m\u001b[1;32m    570\u001b[0m         \u001b[0;32mreturn\u001b[0m \u001b[0mstdout_str\u001b[0m\u001b[0;34m,\u001b[0m \u001b[0mstderr_str\u001b[0m\u001b[0;34m\u001b[0m\u001b[0;34m\u001b[0m\u001b[0m\n\u001b[1;32m    571\u001b[0m \u001b[0;34m\u001b[0m\u001b[0m\n",
      "\u001b[0;31mApplicationError\u001b[0m: Non-zero return code 127 from 'psiblast -query XNLTELKNTPVSELITLGENXGLENLARXRKQDIIFAILKQHAKSGEDIFGDGVLEILQDGFGFLRSADSSYLAGPDDIYVSPSQIRRFNLRTGDTISGKIRPPKEGERYFALLKVNEVNFDKPE -db refseq_prot', message '/bin/sh: 1: psiblast: not found'"
     ]
    }
   ],
   "source": [
    "cline()"
   ]
  },
  {
   "cell_type": "markdown",
   "metadata": {},
   "source": [
    "## ClustalOmega"
   ]
  },
  {
   "cell_type": "code",
   "execution_count": null,
   "metadata": {},
   "outputs": [],
   "source": []
  },
  {
   "cell_type": "markdown",
   "metadata": {},
   "source": [
    "## SCWRL"
   ]
  },
  {
   "cell_type": "code",
   "execution_count": null,
   "metadata": {},
   "outputs": [],
   "source": []
  },
  {
   "cell_type": "markdown",
   "metadata": {},
   "source": [
    "## DSSP "
   ]
  },
  {
   "cell_type": "code",
   "execution_count": 22,
   "metadata": {},
   "outputs": [
    {
     "name": "stdout",
     "output_type": "stream",
     "text": [
      "Accessibilite relative du solvant pour la proteine entiere : 35.50062074974891\n",
      "SETQECLFFNANWEKDRTNQTGVEPCYGDKDKRRHCFATWKNISGSIEIVKQGCWLDDINCYDRTDCVEKKDSPEVYFCCCEGNMCNEKFSYFP\n"
     ]
    }
   ],
   "source": [
    "#imports\n",
    "import wget\n",
    "from Bio.PDB import PDBParser\n",
    "from Bio.PDB.DSSP import DSSP\n",
    "\n",
    "p = PDBParser()\n",
    "structure = p.get_structure(\"5NH3\",\"../data/5NH3.pdb\")\n",
    "model = structure[0]\n",
    "DSSP = DSSP(model, \"../data/5NH3.pdb\")\n",
    "\n",
    "ASA = 0\n",
    "for k in DSSP.keys():\n",
    "    #print(DSSP[k]) #affichage de chaque element pour tous les AA\n",
    "    ASA += DSSP[k][3] #recuperation de la 'relative ASA' de chaque AA\n",
    "\n",
    "print(\"Accessibilite relative du solvant pour la proteine entiere : {}\".format(ASA))\n",
    "\n",
    "# Recuperation de la sequence fasta de la proteine\n",
    "fasta = \"\"\n",
    "for key in DSSP.keys():\n",
    "    fasta += DSSP[key][1] #recuperation du symbole 1 lettre de l'AA\n",
    "print(fasta)"
   ]
  },
  {
   "cell_type": "code",
   "execution_count": null,
   "metadata": {},
   "outputs": [],
   "source": [
    "p = PDBParser()\n",
    "structure = p.get_structure(\"4AEI\",\"../data/4AEI.pdb\")\n",
    "model = structure[0]\n",
    "DSSP = DSSP(model, \"../data/4AEI.pdb\")\n",
    "\n",
    "ASA = 0\n",
    "for k in DSSP.keys():\n",
    "    #print(DSSP[k]) #affichage de chaque element pour tous les AA\n",
    "    ASA += DSSP[k][3] #recuperation de la 'relative ASA' de chaque AA\n",
    "\n",
    "print(\"Accessibilite relative du solvant pour la proteine entiere : {}\".format(ASA))"
   ]
  },
  {
   "cell_type": "markdown",
   "metadata": {},
   "source": [
    "## Comparaison"
   ]
  },
  {
   "cell_type": "code",
   "execution_count": null,
   "metadata": {},
   "outputs": [],
   "source": []
  },
  {
   "cell_type": "code",
   "execution_count": null,
   "metadata": {},
   "outputs": [],
   "source": []
  }
 ],
 "metadata": {
  "kernelspec": {
   "display_name": "Python 3",
   "language": "python",
   "name": "python3"
  },
  "language_info": {
   "codemirror_mode": {
    "name": "ipython",
    "version": 3
   },
   "file_extension": ".py",
   "mimetype": "text/x-python",
   "name": "python",
   "nbconvert_exporter": "python",
   "pygments_lexer": "ipython3",
   "version": "3.9.0"
  }
 },
 "nbformat": 4,
 "nbformat_minor": 4
}
