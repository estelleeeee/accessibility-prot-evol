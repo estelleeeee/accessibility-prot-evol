{
 "cells": [
  {
   "cell_type": "markdown",
   "metadata": {},
   "source": [
    "# Accessibilité relative des résidus et évolution protéique"
   ]
  },
  {
   "cell_type": "markdown",
   "metadata": {},
   "source": [
    "Il y a plusieurs étapes dans le traitement des données :\n",
    "\n",
    " * obtenir les données pdb par **PISCES**\n",
    " * faire tourner **DSSP** pour obtenir l'accessibilité du solvant\n",
    " * récupération des séquences homologues par **PSI-BLAST** (pas moins de 70% d'identité)\n",
    " * réalignement avec la séquence parente\n",
    " * repositionnement des chaines latérales avec **SCWRL4** -> accessibilité du solvant ? "
   ]
  },
  {
   "cell_type": "markdown",
   "metadata": {},
   "source": [
    "## PISCES"
   ]
  },
  {
   "cell_type": "markdown",
   "metadata": {},
   "source": [
    "Sélection de la base de données la plus petite base de [données](http://dunbrack.fccc.edu/Guoli/culledpdb_hh/cullpdb_pc20_res1.6_R0.25_d201103_chains3760.gz)"
   ]
  },
  {
   "cell_type": "markdown",
   "metadata": {},
   "source": [
    "Pour récupérer les fichiers PDB par ligne de commande simplement faire :  \n",
    "`wget https://files.rcsb.org/download/XXXX.pdb`  \n",
    "Le fichier pdb se créera dans le dossier sous le nom XXXX.pdb avec XXXX l'ID de la protéine."
   ]
  },
  {
   "cell_type": "code",
   "execution_count": 30,
   "metadata": {},
   "outputs": [],
   "source": [
    "def pdbfiles(pisces_file):\n",
    "    \"\"\"Creates list of [pdb id, chain, length]\n",
    "    \"\"\"\n",
    "    with open(pisces_file, 'r') as file:\n",
    "        pdb_list = []\n",
    "        next(file)\n",
    "        for line in file:\n",
    "            line = line.split()\n",
    "            pdb_list.append([line[0][0:4], line[0][4:], int(line[1])])\n",
    "        return pdb_list"
   ]
  },
  {
   "cell_type": "code",
   "execution_count": 31,
   "metadata": {},
   "outputs": [],
   "source": [
    "PDB = pdbfiles('../../cullpdb_pc20_res1.6_R0.25_d201103_chains3760')"
   ]
  },
  {
   "cell_type": "markdown",
   "metadata": {},
   "source": [
    "On récupère ainsi une liste contenant pour chaque protéine une liste de son identifiant, la chaine choisie et sa taille."
   ]
  },
  {
   "cell_type": "markdown",
   "metadata": {},
   "source": [
    "## DSSP"
   ]
  },
  {
   "cell_type": "code",
   "execution_count": 4,
   "metadata": {},
   "outputs": [],
   "source": [
    "import wget\n",
    "\n",
    "pdbfiles = wget.download('https://files.rcsb.org/download/1AHO.pdb', out = '../data/1AHO.pdb')\n",
    "pdbfiles = wget.download('https://files.rcsb.org/download/1BTE.pdb', out = '../data/1BTE.pdb')"
   ]
  },
  {
   "cell_type": "markdown",
   "metadata": {},
   "source": [
    "### Traitement de 1AHO"
   ]
  },
  {
   "cell_type": "code",
   "execution_count": 30,
   "metadata": {},
   "outputs": [],
   "source": [
    "from Bio.PDB import PDBParser\n",
    "from Bio.PDB.DSSP import DSSP\n",
    "\n",
    "p = PDBParser()\n",
    "structure = p.get_structure(\"1AHO\",\"../data/1AHO.pdb\")\n",
    "model = structure[0]\n",
    "DSSP = DSSP(model, \"../data/1AHO.pdb\")"
   ]
  },
  {
   "cell_type": "code",
   "execution_count": 2,
   "metadata": {},
   "outputs": [],
   "source": [
    "def full_structure(DSSP_dict):\n",
    "    \"\"\" Check si certains acides aminés n'ont pas de structure secondaire associés\n",
    "    \"\"\"\n",
    "    for key in DSSP_dict.keys():\n",
    "        if DSSP_dict[key][2] == '-':\n",
    "            return False\n",
    "    return True"
   ]
  },
  {
   "cell_type": "code",
   "execution_count": 34,
   "metadata": {},
   "outputs": [
    {
     "name": "stdout",
     "output_type": "stream",
     "text": [
      "False\n"
     ]
    }
   ],
   "source": [
    "print(full_structure(DSSP)) #si False -> certains AA n'ont pas de structure secondaire predites"
   ]
  },
  {
   "cell_type": "code",
   "execution_count": 31,
   "metadata": {},
   "outputs": [
    {
     "name": "stdout",
     "output_type": "stream",
     "text": [
      "(1, 'V', '-', 0.8309859154929577, 360.0, 162.7, 0, 0.0, 2, -0.3, 0, 0.0, 30, -0.0)\n",
      "(2, 'K', 'E', 0.3024390243902439, -154.2, 160.8, 49, -1.8, 49, -2.8, 2, -0.0, 2, -0.3)\n",
      "(3, 'D', 'E', 0.49079754601226994, -110.4, 154.4, -2, -0.3, 2, -0.3, 47, -0.2, 46, -0.2)\n",
      "(4, 'G', 'E', 0.09523809523809523, 159.4, -176.4, 44, -2.4, 44, -2.7, -2, -0.3, 2, -0.7)\n",
      "(5, 'Y', 'E', 0.2072072072072072, -81.8, 117.9, -2, -0.3, 53, -2.3, 42, -0.2, 42, -0.2)\n",
      "(6, 'I', 'B', 0.0, -71.8, 147.7, 40, -0.8, 8, -0.8, -2, -0.7, 2, -0.3)\n",
      "(7, 'V', 'B', 0.09154929577464789, -137.0, 161.8, 49, -1.3, 6, -0.2, 6, -0.2, 49, -0.2)\n",
      "(8, 'D', '-', 0.4049079754601227, -76.9, -171.2, 4, -1.7, 3, -1.4, -2, -0.3, -1, -0.1)\n",
      "(9, 'D', 'T', 0.7423312883435583, -72.9, -8.1, 1, -0.2, -1, -0.0, 2, -0.1, -2, -0.0)\n",
      "(10, 'V', 'T', 0.676056338028169, -119.9, 24.4, 2, -0.1, -1, -0.2, 53, -0.0, -2, -0.0)\n",
      "(11, 'N', 'S', 0.15286624203821655, 73.6, 23.0, -3, -1.4, 2, -0.5, 1, -0.2, 52, -0.1)\n",
      "(12, 'C', '-', 0.15555555555555556, -99.3, 128.1, 50, -0.1, -4, -1.7, 46, -0.1, -1, -0.2)\n",
      "(13, 'T', 'B', 0.18309859154929578, -68.5, 163.9, 50, -0.5, 2, -0.7, -2, -0.5, -6, -0.2)\n",
      "(14, 'Y', '-', 0.26126126126126126, -91.2, 110.5, -8, -0.8, 32, -1.7, 32, -0.3, -1, -0.1)\n",
      "(15, 'F', '-', 0.7715736040609137, -60.2, 145.9, -2, -0.7, 2, -0.3, 30, -0.2, 30, -0.2)\n",
      "(16, 'C', '-', 0.022222222222222223, -155.8, 162.2, 28, -0.2, 3, -0.1, 21, -0.1, 28, -0.1)\n",
      "(17, 'G', 'S', 0.36904761904761907, -125.8, -27.4, -2, -0.3, 2, -0.4, 1, -0.2, -1, -0.1)\n",
      "(18, 'R', '-', 0.6532258064516129, -120.4, 144.7, 1, -0.1, 4, -1.4, 17, -0.1, 3, -0.4)\n",
      "(19, 'N', 'H', 0.5859872611464968, -64.4, -38.0, -2, -0.4, 4, -2.6, 1, -0.2, 5, -0.2)\n",
      "(20, 'A', 'H', 0.5943396226415094, -61.7, -36.8, 1, -0.2, 4, -2.0, 2, -0.2, -1, -0.2)\n",
      "(21, 'Y', 'H', 0.3063063063063063, -59.9, -47.8, -3, -0.4, 4, -2.4, 2, -0.2, -1, -0.2)\n",
      "(22, 'C', 'H', 0.0, -67.0, -36.7, -4, -1.4, 4, -2.8, 2, -0.2, 5, -0.2)\n",
      "(23, 'N', 'H', 0.42038216560509556, -56.9, -44.0, -4, -2.6, 4, -2.0, 11, -0.3, -1, -0.2)\n",
      "(24, 'E', 'H', 0.5515463917525774, -63.4, -48.1, -4, -2.0, 4, -2.1, 2, -0.2, -2, -0.2)\n",
      "(25, 'E', 'H', 0.12886597938144329, -62.5, -39.2, -4, -2.4, 4, -1.0, 1, -0.2, -1, -0.2)\n",
      "(26, 'C', 'H', 0.0, -65.7, -39.5, -4, -2.8, 5, -2.5, 1, -0.2, 3, -0.3)\n",
      "(27, 'T', 'H', 0.44366197183098594, -74.5, -27.2, -4, -2.0, 3, -1.8, -5, -0.2, -2, -0.2)\n",
      "(28, 'K', 'H', 0.6878048780487804, -59.2, -37.1, -4, -2.1, -1, -0.2, 1, -0.3, -2, -0.2)\n",
      "(29, 'L', 'T', 0.3170731707317073, -86.5, 8.0, -4, -1.0, -1, -0.3, -3, -0.3, -2, -0.2)\n",
      "(30, 'K', 'T', 0.44390243902439025, 74.9, 18.0, -3, -1.8, -3, -0.2, 1, -0.2, -2, -0.1)\n",
      "(31, 'G', '-', 0.13095238095238096, -77.9, 170.9, -5, -2.5, -1, -0.2, -6, -0.2, 19, -0.2)\n",
      "(32, 'E', 'S', 0.5721649484536082, -72.5, -49.0, 17, -2.3, 2, -0.3, 1, -0.3, 18, -0.2)\n",
      "(33, 'S', 'E', 0.2153846153846154, -171.5, 174.4, 16, -1.0, 16, -2.7, -7, -0.1, 2, -0.3)\n",
      "(34, 'G', 'E', 0.11904761904761904, -173.3, -179.7, -2, -0.3, -11, -0.3, 14, -0.3, 2, -0.3)\n",
      "(35, 'Y', 'E', 0.27927927927927926, -154.3, 169.4, 12, -2.2, 12, -2.6, -2, -0.3, 2, -0.7)\n",
      "(36, 'C', 'E', 0.037037037037037035, -92.4, 110.8, -2, -0.3, 2, -1.0, 10, -0.2, 10, -0.2)\n",
      "(37, 'Q', 'E', 0.29797979797979796, -82.8, 106.0, 8, -2.7, 8, -2.1, -2, -0.7, 3, -0.8)\n",
      "(38, 'W', 'E', 0.6696035242290749, -73.9, 143.3, -2, -1.0, 6, -0.1, 1, -0.2, 5, -0.1)\n",
      "(39, 'A', 'E', 0.8113207547169812, 57.0, 41.2, -2, -0.2, -1, -0.2, 1, -0.1, 5, -0.2)\n",
      "(40, 'S', 'E', 0.09230769230769231, -71.9, 173.0, 3, -1.2, 3, -2.2, -3, -0.8, -1, -0.1)\n",
      "(41, 'P', 'T', 0.8308823529411765, -61.7, -12.7, 0, 0.0, 3, -0.1, 0, 0.0, -1, -0.1)\n",
      "(42, 'Y', 'T', 0.38738738738738737, -109.7, 14.6, 1, -0.6, 2, -0.2, 20, -0.0, -29, -0.1)\n",
      "(43, 'G', 'E', 0.36904761904761907, 85.0, -165.4, -3, -2.2, -3, -1.2, 2, -0.1, -1, -0.6)\n",
      "(44, 'N', 'E', 0.17834394904458598, -65.2, 131.0, -5, -0.2, 2, -0.3, -2, -0.2, -6, -0.2)\n",
      "(45, 'A', 'E', 0.0, -150.9, 143.3, -8, -2.1, -8, -2.7, -2, -0.3, 2, -0.2)\n",
      "(46, 'C', 'E', 0.0, -72.7, 136.6, -32, -1.7, -40, -0.8, -2, -0.3, 2, -0.4)\n",
      "(47, 'Y', 'E', 0.23873873873873874, -120.0, 131.7, -12, -2.6, -12, -2.2, -2, -0.2, 2, -0.3)\n",
      "(48, 'C', 'E', 0.0, -119.7, 150.1, -44, -2.7, -44, -2.4, -2, -0.4, 2, -0.4)\n",
      "(49, 'Y', 'E', 0.3918918918918919, -106.7, 140.5, -16, -2.7, -17, -2.3, -2, -0.3, -16, -1.0)\n",
      "(50, 'K', 'E', 0.4292682926829268, 57.1, 47.6, -2, -0.4, -47, -0.2, -19, -0.2, -1, -0.2)\n",
      "(51, 'L', 'E', 0.0, -72.6, 151.8, -49, -2.8, -49, -1.8, -3, -0.3, -1, -0.2)\n",
      "(52, 'P', '-', 0.18382352941176472, -60.0, 153.8, 0, 0.0, 3, -1.8, 0, 0.0, -1, -0.1)\n",
      "(53, 'D', 'T', 0.7239263803680982, -64.9, -21.2, 1, -0.3, -2, -0.1, -3, -0.1, -3, -0.0)\n",
      "(54, 'H', 'T', 0.875, -79.9, -12.3, 2, -0.1, -1, -0.3, 0, 0.0, 2, -0.2)\n",
      "(55, 'V', 'S', 0.1267605633802817, -77.1, 136.0, -3, -1.8, 2, -0.4, -26, -0.1, -4, -0.1)\n",
      "(56, 'R', '-', 0.6290322580645161, -76.7, 132.0, -2, -0.2, -49, -1.3, -49, -0.2, 2, -0.3)\n",
      "(57, 'T', 'B', 0.21830985915492956, -117.3, 168.5, -2, -0.4, -51, -0.2, -51, -0.2, -53, -0.0)\n",
      "(58, 'K', '-', 0.16097560975609757, -58.2, 133.5, -53, -2.3, -53, -0.1, -2, -0.3, -1, -0.1)\n",
      "(59, 'G', '-', 0.3333333333333333, -123.5, -175.9, 1, -0.2, -1, -0.1, 2, -0.2, -3, -0.0)\n",
      "(60, 'P', 'S', 1.0, -63.7, 149.0, 0, 0.0, -1, -0.2, 0, 0.0, 2, -0.1)\n",
      "(61, 'G', 'S', 0.6190476190476191, 115.7, 135.8, -3, -0.1, 2, -0.3, 2, -0.0, -2, -0.2)\n",
      "(62, 'R', '-', 0.8548387096774194, -87.0, 138.3, -2, -0.1, 2, -0.3, -50, -0.0, -50, -0.1)\n",
      "(63, 'C', '-', 0.2518518518518518, -150.5, 118.4, -2, -0.3, -50, -0.5, -52, -0.1, -2, -0.0)\n",
      "(64, 'H', '-', 1.0, -131.2, 360.0, -2, -0.3, -1, -0.0, -52, -0.1, -22, -0.0)\n"
     ]
    }
   ],
   "source": [
    "ASA_1AHO = []\n",
    "fasta_1AHO = []\n",
    "for key in DSSP.keys():\n",
    "    print(DSSP[key])\n",
    "    ASA_1AHO.append(DSSP[key][3])\n",
    "    fasta_1AHO.append(DSSP[key][1])"
   ]
  },
  {
   "cell_type": "markdown",
   "metadata": {},
   "source": [
    "### Traitement de 4AEI"
   ]
  },
  {
   "cell_type": "code",
   "execution_count": 8,
   "metadata": {},
   "outputs": [
    {
     "name": "stderr",
     "output_type": "stream",
     "text": [
      "/home/epsilon/miniconda3/envs/projet-tut/lib/python3.9/site-packages/Bio/PDB/StructureBuilder.py:89: PDBConstructionWarning: WARNING: Chain A is discontinuous at line 2262.\n",
      "  warnings.warn(\n"
     ]
    }
   ],
   "source": [
    "from Bio.PDB import PDBParser\n",
    "from Bio.PDB.DSSP import DSSP\n",
    "\n",
    "p = PDBParser()\n",
    "structure = p.get_structure(\"4AEI\",\"../data/4AEI.pdb\")\n",
    "model = structure[0]\n",
    "DSSP = DSSP(model, \"../data/4AEI.pdb\")\n",
    "\n",
    "ASA_4AEI = []\n",
    "fasta_4AEI = []\n",
    "for key in DSSP.keys():\n",
    "    ASA_4AEI.append(DSSP[key][3])\n",
    "    fasta_4AEI.append(DSSP[key][1])\n",
    "# warning is okay"
   ]
  },
  {
   "cell_type": "markdown",
   "metadata": {},
   "source": [
    "### Traitement 1SEG"
   ]
  },
  {
   "cell_type": "code",
   "execution_count": 9,
   "metadata": {},
   "outputs": [],
   "source": [
    "from Bio.PDB import PDBParser\n",
    "from Bio.PDB.DSSP import DSSP\n",
    "\n",
    "p = PDBParser()\n",
    "structure = p.get_structure(\"1SEG\",\"../data/1SEG.pdb\")\n",
    "model = structure[0]\n",
    "DSSP = DSSP(model, \"../data/1SEG.pdb\")\n",
    "\n",
    "ASA_1SEG = []\n",
    "fasta_1SEG = []\n",
    "for key in DSSP.keys():\n",
    "    ASA_1SEG.append(DSSP[key][3])\n",
    "    fasta_1SEG.append(DSSP[key][1])"
   ]
  },
  {
   "cell_type": "markdown",
   "metadata": {},
   "source": [
    "### Traitement de 2KBH"
   ]
  },
  {
   "cell_type": "code",
   "execution_count": 10,
   "metadata": {},
   "outputs": [],
   "source": [
    "from Bio.PDB import PDBParser\n",
    "from Bio.PDB.DSSP import DSSP\n",
    "\n",
    "p = PDBParser()\n",
    "structure = p.get_structure(\"2KBH\",\"../data/2KBH.pdb\")\n",
    "model = structure[0]\n",
    "DSSP = DSSP(model, \"../data/2KBH.pdb\")\n",
    "\n",
    "ASA_2KBH = []\n",
    "fasta_2KBH = []\n",
    "for key in DSSP.keys():\n",
    "    ASA_2KBH.append(DSSP[key][3])\n",
    "    fasta_2KBH.append(DSSP[key][1])"
   ]
  },
  {
   "cell_type": "markdown",
   "metadata": {},
   "source": [
    "### Traitement des données"
   ]
  },
  {
   "cell_type": "code",
   "execution_count": 37,
   "metadata": {},
   "outputs": [],
   "source": [
    "import numpy as np\n",
    "\n",
    "data_1AHO = np.array([ASA_1AHO, ASA_4AEI, ASA_1SEG])\n",
    "average_1AHO = np.mean(data_1AHO, axis = 0)\n",
    "#print(average_1AHO)"
   ]
  },
  {
   "cell_type": "code",
   "execution_count": 63,
   "metadata": {},
   "outputs": [
    {
     "data": {
      "image/png": "[encoded data removed]",
      "text/plain": [
       "<Figure size 432x288 with 1 Axes>"
      ]
     },
     "metadata": {
      "needs_background": "light"
     },
     "output_type": "display_data"
    }
   ],
   "source": [
    "import matplotlib.pyplot as plt\n",
    "\n",
    "plt.plot(average_1AHO, label=\"average\")\n",
    "plt.plot(ASA_1AHO,'.', label=\"1AHO\")\n",
    "plt.plot(ASA_4AEI, '.', label=\"4AEI\")\n",
    "plt.plot(ASA_1SEG, '.', label=\"1SEG\")\n",
    "plt.axhline(y=1, color='grey', linestyle=':')\n",
    "plt.axhline(y=0, color='grey', linestyle=':')\n",
    "plt.legend(loc='upper left', bbox_to_anchor=(1,1))\n",
    "plt.title(\"Accessibilité de la protéine 1AHO\")\n",
    "plt.xlabel(\"AA\")\n",
    "plt.ylabel(\"Accessibilité relative\")\n",
    "plt.show()"
   ]
  },
  {
   "cell_type": "code",
   "execution_count": null,
   "metadata": {},
   "outputs": [],
   "source": []
  },
  {
   "cell_type": "markdown",
   "metadata": {},
   "source": [
    "### Traitement de 1BTE"
   ]
  },
  {
   "cell_type": "code",
   "execution_count": 37,
   "metadata": {},
   "outputs": [],
   "source": [
    "from Bio.PDB import PDBParser\n",
    "from Bio.PDB.DSSP import DSSP\n",
    "\n",
    "p = PDBParser()\n",
    "structure = p.get_structure(\"1BTE\",\"../data/1BTE.pdb\")\n",
    "model = structure[0]\n",
    "DSSP = DSSP(model, \"../data/1BTE.pdb\")"
   ]
  },
  {
   "cell_type": "code",
   "execution_count": 38,
   "metadata": {},
   "outputs": [
    {
     "name": "stdout",
     "output_type": "stream",
     "text": [
      "Accessibilite relative du solvant pour la proteine entiere : 34.529479532768015\n"
     ]
    }
   ],
   "source": [
    "ASA = 0\n",
    "for k in DSSP.keys():\n",
    "    #print(DSSP[k]) #affichage de chaque element pour tous les AA\n",
    "    ASA += DSSP[k][3] #recuperation de la 'relative ASA' de chaque AA\n",
    "\n",
    "print(\"Accessibilite relative du solvant pour la proteine entiere : {}\".format(ASA))"
   ]
  },
  {
   "cell_type": "code",
   "execution_count": 39,
   "metadata": {},
   "outputs": [
    {
     "name": "stdout",
     "output_type": "stream",
     "text": [
      "ETQECLFFNANWERDRTNQTGVEPCYGRRHCFATWKNISGSIEIVKQGCWLDDINCYDRTDCIEKKDSPEVYFCCCEGNMCNEKFSYFPEM\n"
     ]
    }
   ],
   "source": [
    "# Recuperation de la sequence fasta de la proteine\n",
    "fasta = \"\"\n",
    "for key in DSSP.keys():\n",
    "    fasta += DSSP[key][1] #recuperation du symbole 1 lettre de l'AA\n",
    "print(fasta)"
   ]
  },
  {
   "cell_type": "markdown",
   "metadata": {},
   "source": [
    "Les calculs d'accessibilité au solvant sont faits de la même façon avec les autres fichiers PDB."
   ]
  }
 ],
 "metadata": {
  "kernelspec": {
   "display_name": "Python 3",
   "language": "python",
   "name": "python3"
  },
  "language_info": {
   "codemirror_mode": {
    "name": "ipython",
    "version": 3
   },
   "file_extension": ".py",
   "mimetype": "text/x-python",
   "name": "python",
   "nbconvert_exporter": "python",
   "pygments_lexer": "ipython3",
   "version": "3.9.0"
  }
 },
 "nbformat": 4,
 "nbformat_minor": 4
}
