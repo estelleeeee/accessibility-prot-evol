{
 "cells": [
  {
   "cell_type": "markdown",
   "metadata": {},
   "source": [
    "# Accessibilité relative des résidus et évolution protéique"
   ]
  },
  {
   "cell_type": "markdown",
   "metadata": {},
   "source": [
    "Il y a plusieurs étapes dans le traitement des données :\n",
    "\n",
    " * obtenir les données pdb par **PISCES**\n",
    " * faire tourner **DSSP** pour obtenir l'accessibilité du solvant\n",
    " * récupération des séquences homologues par **PSI-BLAST** (pas moins de 70% d'identité)\n",
    " * réalignement avec la séquence parente\n",
    " * repositionnement des chaines latérales avec **SCWRL4** -> accessibilité du solvant ? "
   ]
  },
  {
   "cell_type": "markdown",
   "metadata": {},
   "source": [
    "## PISCES"
   ]
  },
  {
   "cell_type": "markdown",
   "metadata": {},
   "source": [
    "Sélection de la base de données la plus petite base de [données](http://dunbrack.fccc.edu/Guoli/culledpdb_hh/cullpdb_pc20_res1.6_R0.25_d201103_chains3760.gz)"
   ]
  },
  {
   "cell_type": "markdown",
   "metadata": {},
   "source": [
    "*Afin de simplifier le traitement on travaille tout d'abord avec un fichier PDB, on résoud les problèmes, une fois que les exceptions sont réglées, on automatise.*"
   ]
  },
  {
   "cell_type": "markdown",
   "metadata": {},
   "source": [
    "Pour récupérer les fichiers PDB par ligne de commande simplement faire :  \n",
    "`wget https://files.rcsb.org/download/XXXX.pdb`  \n",
    "Le fichier pdb se créera dans le dossier sous le nom XXXX.pdb avec XXXX l'ID de la protéine."
   ]
  },
  {
   "cell_type": "code",
   "execution_count": 1,
   "metadata": {},
   "outputs": [],
   "source": [
    "def pdbfiles(pisces_file):\n",
    "    \"\"\"Creates list of [pdb id, chain, length]\n",
    "    \"\"\"\n",
    "    with open(pisces_file, 'r') as file:\n",
    "        pdb_list = []\n",
    "        next(file)\n",
    "        for line in file:\n",
    "            line = line.split()\n",
    "            pdb_list.append([line[0][0:4], line[0][4:], int(line[1])])\n",
    "        return pdb_list"
   ]
  },
  {
   "cell_type": "code",
   "execution_count": 2,
   "metadata": {},
   "outputs": [],
   "source": [
    "PDB = pdbfiles('../../cullpdb_pc20_res1.6_R0.25_d201103_chains3760')"
   ]
  },
  {
   "cell_type": "markdown",
   "metadata": {},
   "source": [
    "On récupère ainsi une liste contenant pour chaque protéine une liste de son identifiant, la chaine choisie et sa taille."
   ]
  },
  {
   "cell_type": "markdown",
   "metadata": {},
   "source": [
    "**to check :**\n",
    "* complete (taille pdb = taille prot dans la liste)\n",
    "* gerer les differentes chaines\n",
    "* gerer les grands fichiers"
   ]
  },
  {
   "cell_type": "code",
   "execution_count": 3,
   "metadata": {},
   "outputs": [
    {
     "name": "stdout",
     "output_type": "stream",
     "text": [
      "Structure exists: '../data/pdb1ah7.ent' \n"
     ]
    }
   ],
   "source": [
    "from Bio.PDB import PDBList\n",
    "\n",
    "p = PDBList()\n",
    "pdb = p.retrieve_pdb_file(pdb_code = '1AH7', file_format = 'pdb', pdir = '../data/')"
   ]
  },
  {
   "cell_type": "code",
   "execution_count": 4,
   "metadata": {},
   "outputs": [
    {
     "ename": "SyntaxError",
     "evalue": "Missing parentheses in call to 'print'. Did you mean print(\"OUT PATH:\",out_path)? (<ipython-input-4-f41b9e607589>, line 29)",
     "output_type": "error",
     "traceback": [
      "\u001b[0;36m  File \u001b[0;32m\"<ipython-input-4-f41b9e607589>\"\u001b[0;36m, line \u001b[0;32m29\u001b[0m\n\u001b[0;31m    print \"OUT PATH:\",out_path\u001b[0m\n\u001b[0m          ^\u001b[0m\n\u001b[0;31mSyntaxError\u001b[0m\u001b[0;31m:\u001b[0m Missing parentheses in call to 'print'. Did you mean print(\"OUT PATH:\",out_path)?\n"
     ]
    }
   ],
   "source": [
    "import os\n",
    "from Bio import PDB\n",
    "\n",
    "class ChainSplitter:\n",
    "    def __init__(self, out_dir=None):\n",
    "        \"\"\" Create parsing and writing objects, specify output directory. \"\"\"\n",
    "        self.parser = PDB.PDBParser()\n",
    "        self.writer = PDB.PDBIO()\n",
    "        if out_dir is None:\n",
    "            out_dir = '../data/'\n",
    "        self.out_dir = out_dir\n",
    "\n",
    "    def make_pdb(self, pdb_path, chain_letters, overwrite=False, struct=None):\n",
    "        \"\"\" Create a new PDB file containing only the specified chains.\n",
    "\n",
    "        Returns the path to the created file.\n",
    "\n",
    "        :param pdb_path: full path to the crystal structure\n",
    "        :param chain_letters: iterable of chain characters (case insensitive)\n",
    "        :param overwrite: write over the output file if it exists\n",
    "        \"\"\"\n",
    "        chain_letters = [chain.upper() for chain in chain_letters]\n",
    "\n",
    "        # Input/output files\n",
    "        (pdb_dir, pdb_fn) = os.path.split(pdb_path)\n",
    "        pdb_id = pdb_fn[3:7]\n",
    "        out_name = \"pdb%s_%s.ent\" % (pdb_id, \"\".join(chain_letters))\n",
    "        out_path = os.path.join(self.out_dir, out_name)\n",
    "        print \"OUT PATH:\",out_path\n",
    "        plural = \"s\" if (len(chain_letters) > 1) else \"\"  # for printing\n",
    "\n",
    "        # Skip PDB generation if the file already exists\n",
    "        if (not overwrite) and (os.path.isfile(out_path)):\n",
    "            print(\"Chain%s %s of '%s' already extracted to '%s'.\" %\n",
    "                    (plural, \", \".join(chain_letters), pdb_id, out_name))\n",
    "            return out_path\n",
    "\n",
    "        print(\"Extracting chain%s %s from %s...\" % (plural,\n",
    "                \", \".join(chain_letters), pdb_fn))\n",
    "\n",
    "        # Get structure, write new file with only given chains\n",
    "        if struct is None:\n",
    "            struct = self.parser.get_structure(pdb_id, pdb_path)\n",
    "        self.writer.set_structure(struct)\n",
    "        self.writer.save(out_path, select=SelectChains(chain_letters))\n",
    "\n",
    "        return out_path\n",
    "\n",
    "\n",
    "class SelectChains(PDB.Select):\n",
    "    \"\"\" Only accept the specified chains when saving. \"\"\"\n",
    "    def __init__(self, chain_letters):\n",
    "        self.chain_letters = chain_letters\n",
    "\n",
    "    def accept_chain(self, chain):\n",
    "        return (chain.get_id() in self.chain_letters)\n",
    "\n",
    "\n",
    "if __name__ == \"__main__\":\n",
    "    \"\"\" Parses PDB id's desired chains, and creates new PDB structures. \"\"\"\n",
    "    import sys\n",
    "    if not len(sys.argv) == 2:\n",
    "        print \"Usage: $ python %s 'pdb.txt'\" % __file__\n",
    "        sys.exit()\n",
    "\n",
    "    pdb_textfn = sys.argv[1]\n",
    "\n",
    "    pdbList = PDB.PDBList()\n",
    "    splitter = ChainSplitter(\"/home/steve/chain_pdbs\")  # Change me.\n",
    "\n",
    "    with open(pdb_textfn) as pdb_textfile:\n",
    "        for line in pdb_textfile:\n",
    "            pdb_id = line[:4].lower()\n",
    "            chain = line[4]\n",
    "            pdb_fn = pdbList.retrieve_pdb_file(pdb_id)\n",
    "            splitter.make_pdb(pdb_fn, chain)"
   ]
  },
  {
   "cell_type": "markdown",
   "metadata": {},
   "source": [
    "## DSSP"
   ]
  },
  {
   "cell_type": "code",
   "execution_count": 1,
   "metadata": {},
   "outputs": [],
   "source": [
    "#imports\n",
    "import wget\n",
    "from Bio.PDB import PDBParser\n",
    "from Bio.PDB.DSSP import DSSP"
   ]
  },
  {
   "cell_type": "code",
   "execution_count": 4,
   "metadata": {},
   "outputs": [],
   "source": [
    "pdbfiles = wget.download('https://files.rcsb.org/download/1AHO.pdb', out = '../data/1AHO.pdb')"
   ]
  },
  {
   "cell_type": "code",
   "execution_count": 5,
   "metadata": {},
   "outputs": [],
   "source": [
    "p = PDBParser()\n",
    "structure = p.get_structure(\"1AHO\",\"../data/1AHO.pdb\")\n",
    "model = structure[0]\n",
    "DSSP = DSSP(model, \"../data/1AHO.pdb\")"
   ]
  },
  {
   "cell_type": "markdown",
   "metadata": {},
   "source": [
    "Attention DSSP utilisable qu'une fois ?  \n",
    "Il faut reload import DSSP pour pouvoir relancer un modèle ?"
   ]
  },
  {
   "cell_type": "code",
   "execution_count": 12,
   "metadata": {},
   "outputs": [
    {
     "name": "stdout",
     "output_type": "stream",
     "text": [
      "False\n"
     ]
    }
   ],
   "source": [
    "def full_structure(DSSP_dict):\n",
    "    \"\"\" Check si certains acides aminés n'ont pas de structure secondaire associés\n",
    "    \"\"\"\n",
    "    for key in DSSP_dict.keys():\n",
    "        if DSSP_dict[key][2] == '-':\n",
    "            return False\n",
    "    return True\n",
    "\n",
    "print(full_structure(DSSP)) #si False -> certains AA n'ont pas de structure secondaire predites"
   ]
  },
  {
   "cell_type": "code",
   "execution_count": 15,
   "metadata": {},
   "outputs": [
    {
     "name": "stdout",
     "output_type": "stream",
     "text": [
      "Accessibilite relative du solvant pour la proteine entiere : 23.91777136977158\n"
     ]
    }
   ],
   "source": [
    "ASA = 0\n",
    "for k in DSSP.keys():\n",
    "    #print(DSSP[k]) #affichage de chaque element pour tous les AA\n",
    "    ASA += DSSP[k][3] #recuperation de la 'relative ASA' de chaque AA\n",
    "\n",
    "print(\"Accessibilite relative du solvant pour la proteine entiere : {}\".format(ASA))"
   ]
  },
  {
   "cell_type": "code",
   "execution_count": 8,
   "metadata": {},
   "outputs": [
    {
     "name": "stdout",
     "output_type": "stream",
     "text": [
      "VKDGYIVDDVNCTYFCGRNAYCNEECTKLKGESGYCQWASPYGNACYCYKLPDHVRTKGPGRCH\n"
     ]
    }
   ],
   "source": [
    "# Recuperation de la sequence fasta de la proteine\n",
    "fasta = \"\"\n",
    "for key in DSSP.keys():\n",
    "    fasta += DSSP[key][1] #recuperation du symbole 1 lettre de l'AA\n",
    "print(fasta)"
   ]
  },
  {
   "cell_type": "markdown",
   "metadata": {},
   "source": [
    "## PSI-BLAST"
   ]
  },
  {
   "cell_type": "code",
   "execution_count": 12,
   "metadata": {},
   "outputs": [],
   "source": [
    "from Bio.Blast.Applications import NcbipsiblastCommandline"
   ]
  },
  {
   "cell_type": "code",
   "execution_count": 13,
   "metadata": {},
   "outputs": [
    {
     "data": {
      "text/plain": [
       "NcbipsiblastCommandline(cmd=Type help() for interactive help, or help(object) for help about object.)"
      ]
     },
     "execution_count": 13,
     "metadata": {},
     "output_type": "execute_result"
    }
   ],
   "source": [
    "cline = NcbipsiblastCommandline(help)\n",
    "cline"
   ]
  },
  {
   "cell_type": "code",
   "execution_count": 14,
   "metadata": {},
   "outputs": [],
   "source": [
    "cline = NcbipsiblastCommandline('psiblast', db = 'refseq_prot', query = fasta)"
   ]
  },
  {
   "cell_type": "code",
   "execution_count": 15,
   "metadata": {},
   "outputs": [
    {
     "data": {
      "text/plain": [
       "'psiblast -query XNLTELKNTPVSELITLGENXGLENLARXRKQDIIFAILKQHAKSGEDIFGDGVLEILQDGFGFLRSADSSYLAGPDDIYVSPSQIRRFNLRTGDTISGKIRPPKEGERYFALLKVNEVNFDKPE -db refseq_prot'"
      ]
     },
     "execution_count": 15,
     "metadata": {},
     "output_type": "execute_result"
    }
   ],
   "source": [
    "str(cline)"
   ]
  },
  {
   "cell_type": "code",
   "execution_count": 16,
   "metadata": {},
   "outputs": [
    {
     "ename": "ApplicationError",
     "evalue": "Non-zero return code 127 from 'psiblast -query XNLTELKNTPVSELITLGENXGLENLARXRKQDIIFAILKQHAKSGEDIFGDGVLEILQDGFGFLRSADSSYLAGPDDIYVSPSQIRRFNLRTGDTISGKIRPPKEGERYFALLKVNEVNFDKPE -db refseq_prot', message '/bin/sh: 1: psiblast: not found'",
     "output_type": "error",
     "traceback": [
      "\u001b[0;31m---------------------------------------------------------------------------\u001b[0m",
      "\u001b[0;31mApplicationError\u001b[0m                          Traceback (most recent call last)",
      "\u001b[0;32m<ipython-input-16-c418dc64da4a>\u001b[0m in \u001b[0;36m<module>\u001b[0;34m\u001b[0m\n\u001b[0;32m----> 1\u001b[0;31m \u001b[0mcline\u001b[0m\u001b[0;34m(\u001b[0m\u001b[0;34m)\u001b[0m\u001b[0;34m\u001b[0m\u001b[0;34m\u001b[0m\u001b[0m\n\u001b[0m",
      "\u001b[0;32m~/miniconda3/envs/projet-tut/lib/python3.9/site-packages/Bio/Application/__init__.py\u001b[0m in \u001b[0;36m__call__\u001b[0;34m(self, stdin, stdout, stderr, cwd, env)\u001b[0m\n\u001b[1;32m    567\u001b[0m \u001b[0;34m\u001b[0m\u001b[0m\n\u001b[1;32m    568\u001b[0m         \u001b[0;32mif\u001b[0m \u001b[0mreturn_code\u001b[0m\u001b[0;34m:\u001b[0m\u001b[0;34m\u001b[0m\u001b[0;34m\u001b[0m\u001b[0m\n\u001b[0;32m--> 569\u001b[0;31m             \u001b[0;32mraise\u001b[0m \u001b[0mApplicationError\u001b[0m\u001b[0;34m(\u001b[0m\u001b[0mreturn_code\u001b[0m\u001b[0;34m,\u001b[0m \u001b[0mstr\u001b[0m\u001b[0;34m(\u001b[0m\u001b[0mself\u001b[0m\u001b[0;34m)\u001b[0m\u001b[0;34m,\u001b[0m \u001b[0mstdout_str\u001b[0m\u001b[0;34m,\u001b[0m \u001b[0mstderr_str\u001b[0m\u001b[0;34m)\u001b[0m\u001b[0;34m\u001b[0m\u001b[0;34m\u001b[0m\u001b[0m\n\u001b[0m\u001b[1;32m    570\u001b[0m         \u001b[0;32mreturn\u001b[0m \u001b[0mstdout_str\u001b[0m\u001b[0;34m,\u001b[0m \u001b[0mstderr_str\u001b[0m\u001b[0;34m\u001b[0m\u001b[0;34m\u001b[0m\u001b[0m\n\u001b[1;32m    571\u001b[0m \u001b[0;34m\u001b[0m\u001b[0m\n",
      "\u001b[0;31mApplicationError\u001b[0m: Non-zero return code 127 from 'psiblast -query XNLTELKNTPVSELITLGENXGLENLARXRKQDIIFAILKQHAKSGEDIFGDGVLEILQDGFGFLRSADSSYLAGPDDIYVSPSQIRRFNLRTGDTISGKIRPPKEGERYFALLKVNEVNFDKPE -db refseq_prot', message '/bin/sh: 1: psiblast: not found'"
     ]
    }
   ],
   "source": [
    "cline()"
   ]
  },
  {
   "cell_type": "markdown",
   "metadata": {},
   "source": [
    "## ClustalOmega"
   ]
  },
  {
   "cell_type": "code",
   "execution_count": null,
   "metadata": {},
   "outputs": [],
   "source": []
  },
  {
   "cell_type": "markdown",
   "metadata": {},
   "source": [
    "## SCWRL"
   ]
  },
  {
   "cell_type": "code",
   "execution_count": null,
   "metadata": {},
   "outputs": [],
   "source": []
  },
  {
   "cell_type": "markdown",
   "metadata": {},
   "source": [
    "## DSSP "
   ]
  },
  {
   "cell_type": "code",
   "execution_count": null,
   "metadata": {},
   "outputs": [],
   "source": []
  },
  {
   "cell_type": "markdown",
   "metadata": {},
   "source": [
    "## Comparaison"
   ]
  },
  {
   "cell_type": "code",
   "execution_count": null,
   "metadata": {},
   "outputs": [],
   "source": []
  },
  {
   "cell_type": "code",
   "execution_count": null,
   "metadata": {},
   "outputs": [],
   "source": []
  }
 ],
 "metadata": {
  "kernelspec": {
   "display_name": "Python 3",
   "language": "python",
   "name": "python3"
  },
  "language_info": {
   "codemirror_mode": {
    "name": "ipython",
    "version": 3
   },
   "file_extension": ".py",
   "mimetype": "text/x-python",
   "name": "python",
   "nbconvert_exporter": "python",
   "pygments_lexer": "ipython3",
   "version": "3.9.0"
  }
 },
 "nbformat": 4,
 "nbformat_minor": 4
}
